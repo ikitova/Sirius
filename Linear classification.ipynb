{
 "cells": [
  {
   "cell_type": "markdown",
   "metadata": {},
   "source": [
    "# Линейная классификация"
   ]
  },
  {
   "cell_type": "markdown",
   "metadata": {},
   "source": [
    "Будем решать задачу оттока клиентов телеком оператора."
   ]
  },
  {
   "cell_type": "code",
   "execution_count": 8,
   "metadata": {},
   "outputs": [
    {
     "data": {
      "text/html": [
       "<div>\n",
       "<style scoped>\n",
       "    .dataframe tbody tr th:only-of-type {\n",
       "        vertical-align: middle;\n",
       "    }\n",
       "\n",
       "    .dataframe tbody tr th {\n",
       "        vertical-align: top;\n",
       "    }\n",
       "\n",
       "    .dataframe thead th {\n",
       "        text-align: right;\n",
       "    }\n",
       "</style>\n",
       "<table border=\"1\" class=\"dataframe\">\n",
       "  <thead>\n",
       "    <tr style=\"text-align: right;\">\n",
       "      <th></th>\n",
       "      <th>State</th>\n",
       "      <th>Account length</th>\n",
       "      <th>Area code</th>\n",
       "      <th>International plan</th>\n",
       "      <th>Voice mail plan</th>\n",
       "      <th>Number vmail messages</th>\n",
       "      <th>Total day minutes</th>\n",
       "      <th>Total day calls</th>\n",
       "      <th>Total day charge</th>\n",
       "      <th>Total eve minutes</th>\n",
       "      <th>Total eve calls</th>\n",
       "      <th>Total eve charge</th>\n",
       "      <th>Total night minutes</th>\n",
       "      <th>Total night calls</th>\n",
       "      <th>Total night charge</th>\n",
       "      <th>Total intl minutes</th>\n",
       "      <th>Total intl calls</th>\n",
       "      <th>Total intl charge</th>\n",
       "      <th>Customer service calls</th>\n",
       "      <th>Churn</th>\n",
       "    </tr>\n",
       "  </thead>\n",
       "  <tbody>\n",
       "    <tr>\n",
       "      <th>0</th>\n",
       "      <td>KS</td>\n",
       "      <td>128</td>\n",
       "      <td>415</td>\n",
       "      <td>0</td>\n",
       "      <td>1</td>\n",
       "      <td>25</td>\n",
       "      <td>265.1</td>\n",
       "      <td>110</td>\n",
       "      <td>45.07</td>\n",
       "      <td>197.4</td>\n",
       "      <td>99</td>\n",
       "      <td>16.78</td>\n",
       "      <td>244.7</td>\n",
       "      <td>91</td>\n",
       "      <td>11.01</td>\n",
       "      <td>10.0</td>\n",
       "      <td>3</td>\n",
       "      <td>2.70</td>\n",
       "      <td>1</td>\n",
       "      <td>0</td>\n",
       "    </tr>\n",
       "    <tr>\n",
       "      <th>1</th>\n",
       "      <td>OH</td>\n",
       "      <td>107</td>\n",
       "      <td>415</td>\n",
       "      <td>0</td>\n",
       "      <td>1</td>\n",
       "      <td>26</td>\n",
       "      <td>161.6</td>\n",
       "      <td>123</td>\n",
       "      <td>27.47</td>\n",
       "      <td>195.5</td>\n",
       "      <td>103</td>\n",
       "      <td>16.62</td>\n",
       "      <td>254.4</td>\n",
       "      <td>103</td>\n",
       "      <td>11.45</td>\n",
       "      <td>13.7</td>\n",
       "      <td>3</td>\n",
       "      <td>3.70</td>\n",
       "      <td>1</td>\n",
       "      <td>0</td>\n",
       "    </tr>\n",
       "    <tr>\n",
       "      <th>2</th>\n",
       "      <td>NJ</td>\n",
       "      <td>137</td>\n",
       "      <td>415</td>\n",
       "      <td>0</td>\n",
       "      <td>0</td>\n",
       "      <td>0</td>\n",
       "      <td>243.4</td>\n",
       "      <td>114</td>\n",
       "      <td>41.38</td>\n",
       "      <td>121.2</td>\n",
       "      <td>110</td>\n",
       "      <td>10.30</td>\n",
       "      <td>162.6</td>\n",
       "      <td>104</td>\n",
       "      <td>7.32</td>\n",
       "      <td>12.2</td>\n",
       "      <td>5</td>\n",
       "      <td>3.29</td>\n",
       "      <td>0</td>\n",
       "      <td>0</td>\n",
       "    </tr>\n",
       "    <tr>\n",
       "      <th>3</th>\n",
       "      <td>OH</td>\n",
       "      <td>84</td>\n",
       "      <td>408</td>\n",
       "      <td>1</td>\n",
       "      <td>0</td>\n",
       "      <td>0</td>\n",
       "      <td>299.4</td>\n",
       "      <td>71</td>\n",
       "      <td>50.90</td>\n",
       "      <td>61.9</td>\n",
       "      <td>88</td>\n",
       "      <td>5.26</td>\n",
       "      <td>196.9</td>\n",
       "      <td>89</td>\n",
       "      <td>8.86</td>\n",
       "      <td>6.6</td>\n",
       "      <td>7</td>\n",
       "      <td>1.78</td>\n",
       "      <td>2</td>\n",
       "      <td>0</td>\n",
       "    </tr>\n",
       "    <tr>\n",
       "      <th>4</th>\n",
       "      <td>OK</td>\n",
       "      <td>75</td>\n",
       "      <td>415</td>\n",
       "      <td>1</td>\n",
       "      <td>0</td>\n",
       "      <td>0</td>\n",
       "      <td>166.7</td>\n",
       "      <td>113</td>\n",
       "      <td>28.34</td>\n",
       "      <td>148.3</td>\n",
       "      <td>122</td>\n",
       "      <td>12.61</td>\n",
       "      <td>186.9</td>\n",
       "      <td>121</td>\n",
       "      <td>8.41</td>\n",
       "      <td>10.1</td>\n",
       "      <td>3</td>\n",
       "      <td>2.73</td>\n",
       "      <td>3</td>\n",
       "      <td>0</td>\n",
       "    </tr>\n",
       "  </tbody>\n",
       "</table>\n",
       "</div>"
      ],
      "text/plain": [
       "  State  Account length  Area code  International plan  Voice mail plan  \\\n",
       "0    KS             128        415                   0                1   \n",
       "1    OH             107        415                   0                1   \n",
       "2    NJ             137        415                   0                0   \n",
       "3    OH              84        408                   1                0   \n",
       "4    OK              75        415                   1                0   \n",
       "\n",
       "   Number vmail messages  Total day minutes  Total day calls  \\\n",
       "0                     25              265.1              110   \n",
       "1                     26              161.6              123   \n",
       "2                      0              243.4              114   \n",
       "3                      0              299.4               71   \n",
       "4                      0              166.7              113   \n",
       "\n",
       "   Total day charge  Total eve minutes  Total eve calls  Total eve charge  \\\n",
       "0             45.07              197.4               99             16.78   \n",
       "1             27.47              195.5              103             16.62   \n",
       "2             41.38              121.2              110             10.30   \n",
       "3             50.90               61.9               88              5.26   \n",
       "4             28.34              148.3              122             12.61   \n",
       "\n",
       "   Total night minutes  Total night calls  Total night charge  \\\n",
       "0                244.7                 91               11.01   \n",
       "1                254.4                103               11.45   \n",
       "2                162.6                104                7.32   \n",
       "3                196.9                 89                8.86   \n",
       "4                186.9                121                8.41   \n",
       "\n",
       "   Total intl minutes  Total intl calls  Total intl charge  \\\n",
       "0                10.0                 3               2.70   \n",
       "1                13.7                 3               3.70   \n",
       "2                12.2                 5               3.29   \n",
       "3                 6.6                 7               1.78   \n",
       "4                10.1                 3               2.73   \n",
       "\n",
       "   Customer service calls  Churn  \n",
       "0                       1      0  \n",
       "1                       1      0  \n",
       "2                       0      0  \n",
       "3                       2      0  \n",
       "4                       3      0  "
      ]
     },
     "execution_count": 8,
     "metadata": {},
     "output_type": "execute_result"
    }
   ],
   "source": [
    "from matplotlib.pylab import rc, plot\n",
    "import pandas as pd\n",
    "import numpy as np\n",
    "from sklearn.preprocessing import OneHotEncoder\n",
    "from sklearn.model_selection import train_test_split\n",
    "\n",
    "random_state=0\n",
    "df = pd.read_csv('telecom_churn.csv')\n",
    "\n",
    "d = {'Yes' : 1, 'No' : 0}\n",
    "\n",
    "df['International plan'] = df['International plan'].map(d)\n",
    "df['Voice mail plan'] = df['Voice mail plan'].map(d)\n",
    "df['Churn'] = df['Churn'].astype('int64')\n",
    "df.head()"
   ]
  },
  {
   "cell_type": "code",
   "execution_count": 9,
   "metadata": {},
   "outputs": [],
   "source": [
    "#df=df.drop('State',axis=1)\n",
    "df.head()\n",
    "y=df['Churn']\n",
    "X=df.drop('Churn',axis=1)\n",
    "\n",
    "X_train, X_test, y_train, y_test = train_test_split(X, y,test_size=0.2,\n",
    "                                                    random_state=0)"
   ]
  },
  {
   "cell_type": "markdown",
   "metadata": {},
   "source": [
    "### Масштабирование признаков"
   ]
  },
  {
   "cell_type": "markdown",
   "metadata": {},
   "source": [
    "Будем масштабировать признаки перед обучением модели. Это, среди, прочего, сделает нашу регуляризацию более честной: теперь все признаки будут регуляризоваться в равной степени.  Кроме того, можно будет оценивать вклад каждого признака в модель по его весу в модели.\n",
    "\n",
    "Для этого воспользуемся трансформером  `StandardScaler`. Трансформеры в sklearn имеют методы `fit` и `transform` (а еще `fit_transform`). Метод `fit` принимает на вход обучающую выборку и считает по ней необходимые значения (например статистики, как `StandardScaler`: среднее и стандартное отклонение каждого из признаков). transform применяет преобразование к переданной выборке."
   ]
  },
  {
   "cell_type": "markdown",
   "metadata": {},
   "source": [
    "Пропущенные значения закодируем отдельной категорией, пропущенные численные - средним значением признака по тестовой выборке.Применим `StandartScaler` к численным признакам и `OneHotEncoder`- к категориальным. Применим `ColumnTransformer` для единообразной трансформации обучающей и тестовой выборки."
   ]
  },
  {
   "cell_type": "markdown",
   "metadata": {},
   "source": [
    "\n"
   ]
  },
  {
   "cell_type": "code",
   "execution_count": 10,
   "metadata": {},
   "outputs": [],
   "source": [
    "from sklearn.preprocessing import OneHotEncoder\n",
    "from sklearn.preprocessing import StandardScaler\n",
    "\n",
    "numeric_data = X_train.select_dtypes([np.number])\n",
    "numeric_data_mean = numeric_data.mean()\n",
    "X_train = X_train.fillna(numeric_data_mean)\n",
    "X_test = X_test.fillna(numeric_data_mean)\n",
    "\n",
    "numeric_features = numeric_data.columns\n",
    "categorical = list(X_train.dtypes[X_train.dtypes == \"object\"].index)\n",
    "X_train[categorical] = X_train[categorical].fillna(\"NotGiven\")\n",
    "X_test[categorical] = X_test[categorical].fillna(\"NotGiven\")"
   ]
  },
  {
   "cell_type": "markdown",
   "metadata": {},
   "source": [
    "### Кодирование категориальных признаков"
   ]
  },
  {
   "cell_type": "markdown",
   "metadata": {},
   "source": [
    "Нам нужно закодировать категориальные признаки числами, ведь линейная модель может работать только с численными значениями. Два стандартных трансформера из sklearn для работы с категориальными признаками — `OrdinalEncoder` (просто перенумеровывает значения признака натуральными числами) и `OneHotEncoder`(dummy-признаки).\n",
    "\n",
    "`OneHotEncoder` ставит в соответствие каждому признаку целый вектор, состоящий из нулей и одной единицы (которая стоит на месте, соответствующем принимаемому значению, таким образом кодируя его).\n",
    "\n",
    "Нужно ли применять скалирующий трансформатор к признакам, закодированным `OneHotEncoder`.\n",
    "\n",
    "Пользоваться OrdinalEncoder в случае линейной модели —  плохой вариант. \n",
    "\n",
    "Недостатки OneHot-кодирования."
   ]
  },
  {
   "cell_type": "code",
   "execution_count": 11,
   "metadata": {},
   "outputs": [
    {
     "data": {
      "text/html": [
       "<div>\n",
       "<style scoped>\n",
       "    .dataframe tbody tr th:only-of-type {\n",
       "        vertical-align: middle;\n",
       "    }\n",
       "\n",
       "    .dataframe tbody tr th {\n",
       "        vertical-align: top;\n",
       "    }\n",
       "\n",
       "    .dataframe thead th {\n",
       "        text-align: right;\n",
       "    }\n",
       "</style>\n",
       "<table border=\"1\" class=\"dataframe\">\n",
       "  <thead>\n",
       "    <tr style=\"text-align: right;\">\n",
       "      <th></th>\n",
       "      <th>0</th>\n",
       "      <th>1</th>\n",
       "      <th>2</th>\n",
       "      <th>3</th>\n",
       "      <th>4</th>\n",
       "      <th>5</th>\n",
       "      <th>6</th>\n",
       "      <th>7</th>\n",
       "      <th>8</th>\n",
       "      <th>9</th>\n",
       "      <th>...</th>\n",
       "      <th>59</th>\n",
       "      <th>60</th>\n",
       "      <th>61</th>\n",
       "      <th>62</th>\n",
       "      <th>63</th>\n",
       "      <th>64</th>\n",
       "      <th>65</th>\n",
       "      <th>66</th>\n",
       "      <th>67</th>\n",
       "      <th>68</th>\n",
       "    </tr>\n",
       "  </thead>\n",
       "  <tbody>\n",
       "    <tr>\n",
       "      <th>0</th>\n",
       "      <td>0.0</td>\n",
       "      <td>0.0</td>\n",
       "      <td>0.0</td>\n",
       "      <td>0.0</td>\n",
       "      <td>0.0</td>\n",
       "      <td>0.0</td>\n",
       "      <td>0.0</td>\n",
       "      <td>0.0</td>\n",
       "      <td>0.0</td>\n",
       "      <td>0.0</td>\n",
       "      <td>...</td>\n",
       "      <td>-0.879648</td>\n",
       "      <td>-0.653460</td>\n",
       "      <td>-0.879573</td>\n",
       "      <td>-0.377791</td>\n",
       "      <td>-1.214353</td>\n",
       "      <td>-0.379791</td>\n",
       "      <td>-0.334364</td>\n",
       "      <td>-0.605667</td>\n",
       "      <td>-0.336336</td>\n",
       "      <td>1.097125</td>\n",
       "    </tr>\n",
       "    <tr>\n",
       "      <th>1</th>\n",
       "      <td>0.0</td>\n",
       "      <td>0.0</td>\n",
       "      <td>0.0</td>\n",
       "      <td>0.0</td>\n",
       "      <td>0.0</td>\n",
       "      <td>0.0</td>\n",
       "      <td>0.0</td>\n",
       "      <td>0.0</td>\n",
       "      <td>0.0</td>\n",
       "      <td>0.0</td>\n",
       "      <td>...</td>\n",
       "      <td>-0.781652</td>\n",
       "      <td>-0.403801</td>\n",
       "      <td>-0.782731</td>\n",
       "      <td>-0.174258</td>\n",
       "      <td>0.602831</td>\n",
       "      <td>-0.173408</td>\n",
       "      <td>-0.049965</td>\n",
       "      <td>-0.605667</td>\n",
       "      <td>-0.046662</td>\n",
       "      <td>1.097125</td>\n",
       "    </tr>\n",
       "    <tr>\n",
       "      <th>2</th>\n",
       "      <td>0.0</td>\n",
       "      <td>0.0</td>\n",
       "      <td>0.0</td>\n",
       "      <td>0.0</td>\n",
       "      <td>0.0</td>\n",
       "      <td>0.0</td>\n",
       "      <td>0.0</td>\n",
       "      <td>0.0</td>\n",
       "      <td>0.0</td>\n",
       "      <td>0.0</td>\n",
       "      <td>...</td>\n",
       "      <td>-1.007043</td>\n",
       "      <td>0.295246</td>\n",
       "      <td>-1.006391</td>\n",
       "      <td>-0.976535</td>\n",
       "      <td>-0.204806</td>\n",
       "      <td>-0.976985</td>\n",
       "      <td>-0.227714</td>\n",
       "      <td>-1.425524</td>\n",
       "      <td>-0.231000</td>\n",
       "      <td>0.338190</td>\n",
       "    </tr>\n",
       "    <tr>\n",
       "      <th>3</th>\n",
       "      <td>0.0</td>\n",
       "      <td>0.0</td>\n",
       "      <td>0.0</td>\n",
       "      <td>0.0</td>\n",
       "      <td>0.0</td>\n",
       "      <td>0.0</td>\n",
       "      <td>0.0</td>\n",
       "      <td>0.0</td>\n",
       "      <td>0.0</td>\n",
       "      <td>0.0</td>\n",
       "      <td>...</td>\n",
       "      <td>-0.519022</td>\n",
       "      <td>0.145451</td>\n",
       "      <td>-0.519873</td>\n",
       "      <td>-0.332342</td>\n",
       "      <td>0.602831</td>\n",
       "      <td>-0.331489</td>\n",
       "      <td>-1.720811</td>\n",
       "      <td>0.214190</td>\n",
       "      <td>-1.718868</td>\n",
       "      <td>-0.420745</td>\n",
       "    </tr>\n",
       "    <tr>\n",
       "      <th>4</th>\n",
       "      <td>0.0</td>\n",
       "      <td>0.0</td>\n",
       "      <td>0.0</td>\n",
       "      <td>0.0</td>\n",
       "      <td>0.0</td>\n",
       "      <td>0.0</td>\n",
       "      <td>0.0</td>\n",
       "      <td>0.0</td>\n",
       "      <td>0.0</td>\n",
       "      <td>0.0</td>\n",
       "      <td>...</td>\n",
       "      <td>0.468778</td>\n",
       "      <td>1.643408</td>\n",
       "      <td>0.469303</td>\n",
       "      <td>-0.294797</td>\n",
       "      <td>-1.214353</td>\n",
       "      <td>-0.296360</td>\n",
       "      <td>-1.471962</td>\n",
       "      <td>0.214190</td>\n",
       "      <td>-1.468696</td>\n",
       "      <td>0.338190</td>\n",
       "    </tr>\n",
       "  </tbody>\n",
       "</table>\n",
       "<p>5 rows × 69 columns</p>\n",
       "</div>"
      ],
      "text/plain": [
       "    0    1    2    3    4    5    6    7    8    9   ...        59        60  \\\n",
       "0  0.0  0.0  0.0  0.0  0.0  0.0  0.0  0.0  0.0  0.0  ... -0.879648 -0.653460   \n",
       "1  0.0  0.0  0.0  0.0  0.0  0.0  0.0  0.0  0.0  0.0  ... -0.781652 -0.403801   \n",
       "2  0.0  0.0  0.0  0.0  0.0  0.0  0.0  0.0  0.0  0.0  ... -1.007043  0.295246   \n",
       "3  0.0  0.0  0.0  0.0  0.0  0.0  0.0  0.0  0.0  0.0  ... -0.519022  0.145451   \n",
       "4  0.0  0.0  0.0  0.0  0.0  0.0  0.0  0.0  0.0  0.0  ...  0.468778  1.643408   \n",
       "\n",
       "         61        62        63        64        65        66        67  \\\n",
       "0 -0.879573 -0.377791 -1.214353 -0.379791 -0.334364 -0.605667 -0.336336   \n",
       "1 -0.782731 -0.174258  0.602831 -0.173408 -0.049965 -0.605667 -0.046662   \n",
       "2 -1.006391 -0.976535 -0.204806 -0.976985 -0.227714 -1.425524 -0.231000   \n",
       "3 -0.519873 -0.332342  0.602831 -0.331489 -1.720811  0.214190 -1.718868   \n",
       "4  0.469303 -0.294797 -1.214353 -0.296360 -1.471962  0.214190 -1.468696   \n",
       "\n",
       "         68  \n",
       "0  1.097125  \n",
       "1  1.097125  \n",
       "2  0.338190  \n",
       "3 -0.420745  \n",
       "4  0.338190  \n",
       "\n",
       "[5 rows x 69 columns]"
      ]
     },
     "execution_count": 11,
     "metadata": {},
     "output_type": "execute_result"
    }
   ],
   "source": [
    "from sklearn.compose import ColumnTransformer\n",
    "from sklearn.pipeline import Pipeline\n",
    "from sklearn.linear_model import LogisticRegressionCV,LogisticRegression\n",
    "\n",
    "from sklearn.model_selection import GridSearchCV\n",
    "from sklearn.metrics import mean_squared_error,mean_absolute_error\n",
    "\n",
    "column_transformer = ColumnTransformer([\n",
    "    ('ohe', OneHotEncoder(handle_unknown=\"ignore\"), categorical),\n",
    "    ('scaling', StandardScaler(), numeric_features)\n",
    "])\n",
    "X_train_encoded=column_transformer.fit_transform(X_train)\n",
    "pd.DataFrame(X_train_encoded.toarray()).head()"
   ]
  },
  {
   "cell_type": "markdown",
   "metadata": {},
   "source": [
    "### Pipeline"
   ]
  },
  {
   "cell_type": "markdown",
   "metadata": {},
   "source": [
    "Обучение модели часто представляется как последовательность некоторых действий с обучающей и тестовой выборками (например, сначала нужно отмасштабировать выборку (причем для обучающей выборки нужно применить метод fit, а для тестовой — transform), а затем обучить/применить модель (для обучающей fit, а для тестовой — predict). Класс `sklearn.pipeline.Pipeline` позволяет хранить эту последовательность шагов и корректно обрабатывает разные типы выборок: и обучающую, и тестовую.\n",
    "\n",
    "В sklearn еще есть класс для ускоренного формирования последовательности без именования: `sklearn.pipeline.make_pipeline`"
   ]
  },
  {
   "cell_type": "markdown",
   "metadata": {},
   "source": [
    "### Логистическая регрессия"
   ]
  },
  {
   "cell_type": "markdown",
   "metadata": {},
   "source": [
    "class sklearn.linear_model.LogisticRegressionCV(*,\n",
    "\n",
    "                     Cs=10, fit_intercept=True, cv=None, dual=False, penalty='l2',\n",
    "                     \n",
    "                     scoring=None,  solver='lbfgs', tol=0.0001, max_iter=100,\n",
    "                     \n",
    "                     class_weight=None, n_jobs=None, verbose=0, refit=True, \n",
    "                     \n",
    "                     intercept_scaling=1.0, multi_class='auto', random_state=None, l1_ratios=None)\n",
    "                     \n",
    "   - Cs - параметр, обратный коэфф.регуляризации\n",
    "   - penalty - тип регуляризации: ‘l1’, ‘l2’, ‘elasticnet’\n",
    "   - cv : число блоков кроссвалидации или генератор кросс-валидации (например,KFold или LeaveOneOut) \n",
    "   \n",
    "Кроме стандарных методов fit,predict  полезен метод predict_proba()"
   ]
  },
  {
   "cell_type": "markdown",
   "metadata": {},
   "source": [
    "Создадим в Pipeline с трансформацией признаков логиcтическую регрессию с L2- регуляризацией, найдем наилучшие параметры на кросс-валидации по сетке параметра регуляризации С: [0.0001,0.001,0.01,0.1,1,10,100].\n",
    "Используем класс LogisticRegressionCV, random_state=42 и число блоков кросс-валидации cv=5\n"
   ]
  },
  {
   "cell_type": "code",
   "execution_count": 13,
   "metadata": {},
   "outputs": [
    {
     "name": "stdout",
     "output_type": "stream",
     "text": [
      "          0\n",
      "0  0.275122\n",
      "1  0.014658\n",
      "2  0.223864\n",
      "3  0.054583\n",
      "4  0.883578\n",
      "          0         1\n",
      "0  0.724878  0.275122\n",
      "1  0.985342  0.014658\n",
      "2  0.776136  0.223864\n",
      "3  0.945417  0.054583\n",
      "4  0.116422  0.883578\n"
     ]
    }
   ],
   "source": [
    "import warnings\n",
    "warnings.simplefilter(\"ignore\")\n",
    "\n",
    "pipeline = Pipeline(steps=[\n",
    "    ('ohe_and_scaling', column_transformer),\n",
    "    ('regression', LogisticRegressionCV(penalty='l2',Cs=[0.0001,0.001,0.01,0.1,1,10,100],\n",
    "                                        cv=5,refit=True))\n",
    "])\n",
    "\n",
    "model = pipeline.fit(X_train, y_train)\n",
    "y_pred = model.predict(X_test)\n",
    "#predict_proba возвращает вероятности классов \n",
    "y_proba = model.predict_proba(X_test)\n",
    "print(pd.DataFrame(y_proba[:, 1]).head())\n",
    "print(pd.DataFrame(y_proba).head())"
   ]
  },
  {
   "cell_type": "code",
   "execution_count": 14,
   "metadata": {},
   "outputs": [
    {
     "name": "stdout",
     "output_type": "stream",
     "text": [
      "1. Test accuracy = 0.8396\n",
      "2. C = 100.0000\n"
     ]
    }
   ],
   "source": [
    "\n",
    "from sklearn.metrics import accuracy_score\n",
    "print(\"1. Test accuracy = %.4f\" % accuracy_score(y_pred,y_test))\n",
    "print(\"2. C = %.4f\" % model[1].C_)\n"
   ]
  },
  {
   "cell_type": "markdown",
   "metadata": {},
   "source": [
    "Как можно улучшить качество линейной модели"
   ]
  },
  {
   "cell_type": "markdown",
   "metadata": {},
   "source": [
    "### Биннаризация признаков"
   ]
  },
  {
   "cell_type": "markdown",
   "metadata": {},
   "source": [
    "Для биннаризации признаков можно применять класс `sklearn.preprocessing.KBinsDiscretizer`:\n",
    "sklearn.preprocessing.KBinsDiscretizer(n_bins=5, *, encode='onehot', strategy='quantile', dtype=None)\n",
    "\n",
    "       strategy(default=’quantile’):\n",
    "            - uniform -равномерное разбиение  значений признака\n",
    "            - quantile - по кванитилям\n",
    "            - kmeans - 1D k-means cluster.\n",
    "            - encode: 'ordinal'\n",
    "Преимущества биннаризации: улавливание немонотонных (vs Feature Engineering) и нелинейных зависимостей отклика от признака. \n",
    "Когда имеет смысл использовать ordinal-кодирование?\n",
    "       "
   ]
  },
  {
   "cell_type": "markdown",
   "metadata": {},
   "source": [
    "Вместо `StandardScaler` применим к численным признакам метод класса `sklearn.preprocessing.KBinsDiscretizer` с разбиением на 25 групп и стратегией разбиения 'kmeans' к численным признакам, а `OneHotEncoder`применим к категориальным признакам. \n",
    "\n",
    "Применим `ColumnTransformer` для единообразной трансформации обучающей и тестовой выборки.\n",
    "Создадим в pipeline с трансформацией признаков логистическую регрессию с L2- регуляризацией, найдем наилучшие параметры на кросс-валидации по сетке параметра регуляризации С: [0.0001,0.001,0.01,0.1,1,10,100].\n"
   ]
  },
  {
   "cell_type": "code",
   "execution_count": 17,
   "metadata": {},
   "outputs": [],
   "source": [
    "from sklearn.preprocessing import KBinsDiscretizer"
   ]
  },
  {
   "cell_type": "code",
   "execution_count": 22,
   "metadata": {},
   "outputs": [
    {
     "name": "stdout",
     "output_type": "stream",
     "text": [
      "Test accuracy = 0.8816\n",
      "C= 1.0000\n"
     ]
    }
   ],
   "source": [
    "\n",
    "\n",
    "column_transformer = ColumnTransformer([\n",
    "    ('ohe', OneHotEncoder(handle_unknown=\"ignore\"), categorical),\n",
    "    ('binner',  KBinsDiscretizer(n_bins=25, strategy='kmeans'), numeric_features)\n",
    "])\n",
    "\n",
    "pipeline = Pipeline(steps=[\n",
    "    ('ohe_and_scaling', column_transformer),\n",
    "    ('regression',  LogisticRegressionCV(penalty='l2',Cs=[0.0001,0.001,0.01,0.1,1,10,100],cv=5,\n",
    "                                       random_state=random_state))\n",
    "])\n",
    "\n",
    "model = pipeline.fit(X_train, y_train)\n",
    "y_pred = model.predict(X_test)\n",
    "print(\"Test accuracy = %.4f\" % accuracy_score(y_pred,y_test))\n",
    "print(\"C= %.4f\" % model[1].C_)"
   ]
  },
  {
   "cell_type": "markdown",
   "metadata": {},
   "source": [
    "попробуем квантильную стратегиею разбиения признака (получается одинаковое кол-во значений признака в каждой группе)"
   ]
  },
  {
   "cell_type": "code",
   "execution_count": 23,
   "metadata": {},
   "outputs": [
    {
     "name": "stdout",
     "output_type": "stream",
     "text": [
      "Test accuracy = 0.8771\n",
      "C= 0.1000\n"
     ]
    }
   ],
   "source": [
    "column_transformer = ColumnTransformer([\n",
    "    ('ohe', OneHotEncoder(handle_unknown=\"ignore\"), categorical),\n",
    "    ('binner',  KBinsDiscretizer(n_bins=25, strategy='quantile'), numeric_features)\n",
    "])\n",
    "\n",
    "pipeline = Pipeline(steps=[\n",
    "    ('ohe_and_scaling', column_transformer),\n",
    "    ('regression',  LogisticRegressionCV(penalty='l2',Cs=[0.0001,0.001,0.01,0.1,1,10,100],cv=5,\n",
    "                                       random_state=random_state))\n",
    "])\n",
    "\n",
    "model = pipeline.fit(X_train, y_train)\n",
    "y_pred = model.predict(X_test)\n",
    "print(\"Test accuracy = %.4f\" % accuracy_score(y_pred,y_test))\n",
    "print(\"C= %.4f\" % model[1].C_)\n"
   ]
  },
  {
   "cell_type": "markdown",
   "metadata": {},
   "source": [
    "### Стохастический градиентый спуск в задачах классификации"
   ]
  },
  {
   "cell_type": "markdown",
   "metadata": {},
   "source": [
    "\n",
    "Решим задачу методом стохастического градиентого спуска,\n",
    "применяя такую же трансформацю признаков, как в последней задаче:\n",
    "    - KBinsDiscretizer с разбиением на 25 групп и стратегией разбиения 'kmeans' к численным признакам,\n",
    "    - OneHotEncoder- к категориальным.\n",
    "Воспользуемся классом моделей градиентного спуска\n",
    "`sklearn.linear_model.SGDClassifier` с параметрами:\n",
    "- learning_rate='constant'\n",
    "- max_iter=20 (сколько раз каждый объект случайно выбирается для модификации весов)\n",
    "- loss='log'\n",
    "- alpha=0.0001 (сила регуляризации)\n",
    "- penalty='l2'\n",
    "-  сетка значений шага скорости обучения epsilon (learning rate): [0.001,0.01,0.05,0.1,0.2,0.5,1.0,1.5,5,10] (Возьмем достаточно большие значения для иллюстрации расходимости)\n",
    "\n",
    "SGDRegressor(loss='squared_error', penalty='l2') решает ту же задачу, что и Ridge() (др.solver)\n",
    "\n",
    "Просто и быстро работает.\n",
    "\n",
    "Чувствителен к масштабу признаков, требует гиперпараметры, от которых может заметно зависеть качество (регуляризация, max_iter)\n"
   ]
  },
  {
   "cell_type": "code",
   "execution_count": 30,
   "metadata": {},
   "outputs": [
    {
     "name": "stdout",
     "output_type": "stream",
     "text": [
      " Test accuracy = 0.8696 learning rate= 0.0010\n",
      " Test accuracy = 0.8681 learning rate= 0.0100\n",
      " Test accuracy = 0.8741 learning rate= 0.0500\n",
      " Test accuracy = 0.8651 learning rate= 0.1000\n",
      " Test accuracy = 0.8006 learning rate= 0.2000\n",
      " Test accuracy = 0.6237 learning rate= 0.5000\n",
      " Test accuracy = 0.5457 learning rate= 1.0000\n",
      " Test accuracy = 0.5172 learning rate= 1.5000\n",
      " Test accuracy = 0.7436 learning rate= 5.0000\n",
      " Test accuracy = 0.8381 learning rate= 10.0000\n"
     ]
    }
   ],
   "source": [
    "results=[]\n",
    "for eps in [0.001,0.01,0.05,0.1,0.2,0.5,1.0,1.5,5,10]:\n",
    "    from sklearn.linear_model import SGDClassifier\n",
    "    pipeline = Pipeline(steps=[\n",
    "        ('ohe_and_scaling', column_transformer),\n",
    "        ('regression', SGDClassifier(max_iter=20,loss='log',penalty='l2',alpha=0.001, \n",
    "                                     learning_rate='constant',eta0=eps,\n",
    "                                     random_state=random_state,n_iter_no_change=20))\n",
    "    ])\n",
    "\n",
    "    model = pipeline.fit(X_train, y_train)\n",
    "    y_pred = model.predict(X_test)\n",
    "    print(\" Test accuracy = %.4f learning rate= %.4f\" % (accuracy_score(y_pred,y_test), eps))\n",
    "    results.append((accuracy_score(y_pred,y_test), eps))\n"
   ]
  },
  {
   "cell_type": "markdown",
   "metadata": {},
   "source": [
    "Видим, как при  слишком большом learning rate SGD не сходится. Не достигает такого же качества как просто LogisticRegression()"
   ]
  },
  {
   "cell_type": "code",
   "execution_count": 31,
   "metadata": {},
   "outputs": [
    {
     "name": "stdout",
     "output_type": "stream",
     "text": [
      "Max test accuracy = 0.8741 \n",
      "learning rate= 0.0500\n"
     ]
    }
   ],
   "source": [
    "print(\"Max test accuracy = %.4f \\nlearning rate= %.4f\" % \n",
    "      (max(results, key = lambda i : i[0])[0],max(results, key = lambda i : i[0])[1]))"
   ]
  },
  {
   "cell_type": "markdown",
   "metadata": {},
   "source": [
    "Полностью аналогично предыдущей задаче обучим модель с параметром learning_rate='adaptive'(делит eps на 5, если нет улучшения  training loss на нескольких итерациях(число задается другими параметрами). Если задать слишком большой eps, то очень возможно не справится, зависит, в частности, от параметра n_iter_no_change и др.\n"
   ]
  },
  {
   "cell_type": "code",
   "execution_count": 32,
   "metadata": {},
   "outputs": [
    {
     "name": "stdout",
     "output_type": "stream",
     "text": [
      "1 0.8680659670164917 20\n"
     ]
    }
   ],
   "source": [
    "results=[]\n",
    "for eps in [1]:\n",
    "    from sklearn.linear_model import SGDClassifier\n",
    "    pipeline = Pipeline(steps=[\n",
    "        ('ohe_and_scaling', column_transformer),\n",
    "        ('regression', SGDClassifier(max_iter=20,loss='log',penalty='l2',alpha=0.001,\n",
    "                                     learning_rate='adaptive',eta0=eps,\n",
    "                                     random_state=random_state,n_iter_no_change=5 ))\n",
    "    ])\n",
    "\n",
    "    model = pipeline.fit(X_train, y_train)\n",
    "    y_pred = model.predict(X_test)\n",
    "    print(eps,accuracy_score(y_pred,y_test),model[1].n_iter_)\n",
    "    results.append((accuracy_score(y_pred,y_test), eps))"
   ]
  },
  {
   "cell_type": "markdown",
   "metadata": {},
   "source": [
    "Адаптивный сам подстраивается, но немного дальше от оптимума"
   ]
  },
  {
   "cell_type": "markdown",
   "metadata": {},
   "source": [
    "Что еще можно сделать с линейной классификацией: \n",
    " - сегментация выборки и построение нескольких моделей на сегментах\n",
    " - Feature Engineering (PolynomialFeatures итп)\n",
    " "
   ]
  },
  {
   "cell_type": "markdown",
   "metadata": {},
   "source": [
    "### Многоклассовая классификация"
   ]
  },
  {
   "cell_type": "markdown",
   "metadata": {},
   "source": [
    "<center>\n",
    "<img src=\"./images/one_vs.png\" width=500/>\n",
    "</center>"
   ]
  },
  {
   "cell_type": "markdown",
   "metadata": {},
   "source": [
    "#### Один против всех(one versus rest),One versus one"
   ]
  },
  {
   "cell_type": "markdown",
   "metadata": {},
   "source": [
    "One-vs-rest (OvR) Обучаем несколько бинарных классификаторов, предсказываем наиболее вероятный класс"
   ]
  },
  {
   "cell_type": "markdown",
   "metadata": {},
   "source": [
    "В методе отмечаем параметр  `multi_class` (Например, в `LogisticRegression`)"
   ]
  },
  {
   "cell_type": "code",
   "execution_count": 99,
   "metadata": {},
   "outputs": [],
   "source": [
    "from sklearn.datasets import make_classification\n",
    "from sklearn.linear_model import LogisticRegression\n",
    "\n",
    "X, y = make_classification(n_samples=1000, n_features=10, n_informative=5, n_redundant=5, n_classes=3, random_state=1)\n",
    "\n",
    "X_train, X_test, y_train, y_test = train_test_split(X, y, test_size = 0.33, random_state = 0)\n",
    "\n",
    "model = LogisticRegression(multi_class='ovr')\n",
    "\n",
    "model.fit(X_train, y_train)\n",
    "y_pred = model.predict(X_test)\n",
    "y_proba = model.predict_proba(X_test)\n"
   ]
  },
  {
   "cell_type": "code",
   "execution_count": 100,
   "metadata": {},
   "outputs": [
    {
     "data": {
      "text/plain": [
       "((1000, 10), (1000,), (670, 10), (670,), (330, 10), (330,))"
      ]
     },
     "execution_count": 100,
     "metadata": {},
     "output_type": "execute_result"
    }
   ],
   "source": [
    "X.shape, y.shape, X_train.shape, y_train.shape, X_test.shape, y_test.shape"
   ]
  },
  {
   "cell_type": "code",
   "execution_count": 101,
   "metadata": {},
   "outputs": [
    {
     "data": {
      "text/html": [
       "<div>\n",
       "<style scoped>\n",
       "    .dataframe tbody tr th:only-of-type {\n",
       "        vertical-align: middle;\n",
       "    }\n",
       "\n",
       "    .dataframe tbody tr th {\n",
       "        vertical-align: top;\n",
       "    }\n",
       "\n",
       "    .dataframe thead th {\n",
       "        text-align: right;\n",
       "    }\n",
       "</style>\n",
       "<table border=\"1\" class=\"dataframe\">\n",
       "  <thead>\n",
       "    <tr style=\"text-align: right;\">\n",
       "      <th></th>\n",
       "      <th>0</th>\n",
       "      <th>1</th>\n",
       "      <th>2</th>\n",
       "    </tr>\n",
       "  </thead>\n",
       "  <tbody>\n",
       "    <tr>\n",
       "      <th>0</th>\n",
       "      <td>0.468237</td>\n",
       "      <td>0.153721</td>\n",
       "      <td>0.378043</td>\n",
       "    </tr>\n",
       "    <tr>\n",
       "      <th>1</th>\n",
       "      <td>0.533255</td>\n",
       "      <td>0.173236</td>\n",
       "      <td>0.293509</td>\n",
       "    </tr>\n",
       "    <tr>\n",
       "      <th>2</th>\n",
       "      <td>0.260221</td>\n",
       "      <td>0.086506</td>\n",
       "      <td>0.653273</td>\n",
       "    </tr>\n",
       "    <tr>\n",
       "      <th>3</th>\n",
       "      <td>0.401586</td>\n",
       "      <td>0.250503</td>\n",
       "      <td>0.347911</td>\n",
       "    </tr>\n",
       "    <tr>\n",
       "      <th>4</th>\n",
       "      <td>0.645968</td>\n",
       "      <td>0.051456</td>\n",
       "      <td>0.302576</td>\n",
       "    </tr>\n",
       "    <tr>\n",
       "      <th>...</th>\n",
       "      <td>...</td>\n",
       "      <td>...</td>\n",
       "      <td>...</td>\n",
       "    </tr>\n",
       "    <tr>\n",
       "      <th>325</th>\n",
       "      <td>0.504307</td>\n",
       "      <td>0.098508</td>\n",
       "      <td>0.397185</td>\n",
       "    </tr>\n",
       "    <tr>\n",
       "      <th>326</th>\n",
       "      <td>0.462747</td>\n",
       "      <td>0.335996</td>\n",
       "      <td>0.201257</td>\n",
       "    </tr>\n",
       "    <tr>\n",
       "      <th>327</th>\n",
       "      <td>0.043586</td>\n",
       "      <td>0.636665</td>\n",
       "      <td>0.319749</td>\n",
       "    </tr>\n",
       "    <tr>\n",
       "      <th>328</th>\n",
       "      <td>0.357171</td>\n",
       "      <td>0.028820</td>\n",
       "      <td>0.614010</td>\n",
       "    </tr>\n",
       "    <tr>\n",
       "      <th>329</th>\n",
       "      <td>0.622681</td>\n",
       "      <td>0.112021</td>\n",
       "      <td>0.265298</td>\n",
       "    </tr>\n",
       "  </tbody>\n",
       "</table>\n",
       "<p>330 rows × 3 columns</p>\n",
       "</div>"
      ],
      "text/plain": [
       "            0         1         2\n",
       "0    0.468237  0.153721  0.378043\n",
       "1    0.533255  0.173236  0.293509\n",
       "2    0.260221  0.086506  0.653273\n",
       "3    0.401586  0.250503  0.347911\n",
       "4    0.645968  0.051456  0.302576\n",
       "..        ...       ...       ...\n",
       "325  0.504307  0.098508  0.397185\n",
       "326  0.462747  0.335996  0.201257\n",
       "327  0.043586  0.636665  0.319749\n",
       "328  0.357171  0.028820  0.614010\n",
       "329  0.622681  0.112021  0.265298\n",
       "\n",
       "[330 rows x 3 columns]"
      ]
     },
     "execution_count": 101,
     "metadata": {},
     "output_type": "execute_result"
    }
   ],
   "source": [
    "pd.DataFrame(y_proba)"
   ]
  }
 ],
 "metadata": {
  "kernelspec": {
   "display_name": "Python 3",
   "language": "python",
   "name": "python3"
  },
  "language_info": {
   "codemirror_mode": {
    "name": "ipython",
    "version": 3
   },
   "file_extension": ".py",
   "mimetype": "text/x-python",
   "name": "python",
   "nbconvert_exporter": "python",
   "pygments_lexer": "ipython3",
   "version": "3.8.3"
  }
 },
 "nbformat": 4,
 "nbformat_minor": 4
}
